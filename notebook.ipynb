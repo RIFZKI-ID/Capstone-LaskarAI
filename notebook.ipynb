{
  "cells": [
    {
      "cell_type": "code",
      "execution_count": null,
      "metadata": {},
      "outputs": [],
      "source": [
        "from pathlib import Path\n",
        "\n",
        "import kagglehub\n",
        "import keras_cv\n",
        "import matplotlib.pyplot as plt\n",
        "import tensorflow as tf\n",
        "from sklearn.metrics import ConfusionMatrixDisplay, confusion_matrix\n",
        "from tensorflow import keras\n",
        "from tensorflow.keras import layers\n",
        "from tensorflow.keras.applications.mobilenet_v2 import (\n",
        "    preprocess_input as mobilenet_preprocess_input,\n",
        ")\n",
        "from tensorflow.keras.callbacks import (\n",
        "    EarlyStopping,\n",
        "    ModelCheckpoint,\n",
        "    ReduceLROnPlateau,\n",
        "    TensorBoard,\n",
        ")\n",
        "\n",
        "AUTOTUNE = tf.data.AUTOTUNE"
      ]
    },
    {
      "cell_type": "code",
      "execution_count": null,
      "metadata": {
        "colab": {
          "base_uri": "https://localhost:8080/"
        },
        "id": "sRTyRfOIScGf",
        "outputId": "fbbaadf2-03ec-47cf-fae2-8c31884b5901"
      },
      "outputs": [],
      "source": [
        "DATA_DIR = kagglehub.dataset_download(\"arjuntejaswi/plant-village\")\n",
        "DATA_PATH = Path(DATA_DIR) / \"PlantVillage\"\n",
        "\n",
        "print(f\"Using dataset from: {DATA_PATH}\")"
      ]
    },
    {
      "cell_type": "code",
      "execution_count": null,
      "metadata": {
        "id": "JLCTV7_1SiI5"
      },
      "outputs": [],
      "source": [
        "# Configuration\n",
        "IMG_SIZE = (224, 224)\n",
        "BATCH_SIZE = 32\n",
        "SEED = 42\n",
        "VALIDATION_SPLIT = 0.2\n",
        "\n",
        "# Load and split data\n",
        "train_ds = tf.keras.utils.image_dataset_from_directory(\n",
        "    DATA_PATH,\n",
        "    label_mode=\"int\",\n",
        "    image_size=IMG_SIZE,\n",
        "    batch_size=BATCH_SIZE,\n",
        "    seed=SEED,\n",
        "    shuffle=True,\n",
        "    validation_split=VALIDATION_SPLIT,\n",
        "    subset=\"training\",\n",
        ")\n",
        "\n",
        "val_ds = tf.keras.utils.image_dataset_from_directory(\n",
        "    DATA_PATH,\n",
        "    label_mode=\"int\",\n",
        "    image_size=IMG_SIZE,\n",
        "    batch_size=BATCH_SIZE,\n",
        "    seed=SEED,\n",
        "    shuffle=True,\n",
        "    validation_split=VALIDATION_SPLIT,\n",
        "    subset=\"validation\",\n",
        ")\n",
        "\n",
        "class_names = train_ds.class_names\n",
        "num_classes = len(class_names)\n",
        "\n",
        "# Prefetching\n",
        "train_ds = train_ds.prefetch(buffer_size=AUTOTUNE)\n",
        "val_ds = val_ds.prefetch(buffer_size=AUTOTUNE)\n",
        "\n",
        "\n",
        "print(f\"Number of classes: {num_classes}\")\n",
        "print(f\"Class names: {class_names}\")\n",
        "print(\n",
        "    f\"Training dataset size: {tf.data.experimental.cardinality(train_ds).numpy()} batches\"\n",
        ")\n",
        "print(\n",
        "    f\"Validation dataset size: {tf.data.experimental.cardinality(val_ds).numpy()} batches\"\n",
        ")"
      ]
    },
    {
      "cell_type": "code",
      "execution_count": null,
      "metadata": {
        "colab": {
          "base_uri": "https://localhost:8080/"
        },
        "id": "5fJv_fL7SjRR",
        "outputId": "74e9bb12-dc1b-4c5c-fc30-1b3ea7163224"
      },
      "outputs": [],
      "source": [
        "augmenter = keras.Sequential(\n",
        "    [\n",
        "        keras_cv.layers.RandomFlip(\"horizontal\"),\n",
        "        keras_cv.layers.RandomRotation(factor=0.1),\n",
        "        keras_cv.layers.RandomZoom(height_factor=0.1, width_factor=0.1),\n",
        "        keras_cv.layers.RandomContrast(factor=0.1, value_range=(0, 255)),\n",
        "    ],\n",
        "    name=\"augmenter\",\n",
        ")\n",
        "\n",
        "\n",
        "def preprocess_data(\n",
        "    images: tf.Tensor, labels: tf.Tensor\n",
        ") -> tuple[tf.Tensor, tf.Tensor]:\n",
        "    \"\"\"Applies augmentation to images.\"\"\"\n",
        "    augmented_images = augmenter(images)\n",
        "    return augmented_images, labels\n",
        "\n",
        "\n",
        "train_ds = train_ds.map(preprocess_data, num_parallel_calls=AUTOTUNE)"
      ]
    },
    {
      "cell_type": "code",
      "execution_count": null,
      "metadata": {
        "colab": {
          "base_uri": "https://localhost:8080/",
          "height": 1000
        },
        "id": "3YrI8kKkSlRD",
        "outputId": "1334aabc-e88c-441b-9ca3-cb4eb962b448"
      },
      "outputs": [],
      "source": [
        "# Base Model\n",
        "base_model = keras.applications.MobileNetV2(\n",
        "    input_shape=(*IMG_SIZE, 3),\n",
        "    include_top=False,\n",
        "    weights=\"imagenet\",\n",
        ")\n",
        "base_model.trainable = False\n",
        "\n",
        "# Build the new model\n",
        "inputs = keras.Input(shape=(*IMG_SIZE, 3), name=\"input_layer\")\n",
        "x = mobilenet_preprocess_input(inputs)\n",
        "x = base_model(x, training=False)\n",
        "x = layers.GlobalAveragePooling2D(name=\"global_average_pooling\")(x)\n",
        "x = layers.Dropout(0.3, name=\"dropout_layer\")(x)\n",
        "outputs = layers.Dense(num_classes, activation=\"softmax\", name=\"output_layer\")(x)\n",
        "\n",
        "model = keras.Model(inputs, outputs, name=\"plant_disease_classifier\")"
      ]
    },
    {
      "cell_type": "code",
      "execution_count": null,
      "metadata": {
        "colab": {
          "base_uri": "https://localhost:8080/",
          "height": 472
        },
        "id": "Rzdcx5qsSmvb",
        "outputId": "f442df16-4635-45ba-c2a3-f073ae6e5b38"
      },
      "outputs": [],
      "source": [
        "model.compile(\n",
        "    optimizer=keras.optimizers.Adam(learning_rate=1e-3),\n",
        "    loss=\"sparse_categorical_crossentropy\",\n",
        "    metrics=[\"accuracy\"],\n",
        ")\n",
        "model.summary()"
      ]
    },
    {
      "cell_type": "code",
      "execution_count": null,
      "metadata": {},
      "outputs": [],
      "source": [
        "LOG_DIR = \"logs\"\n",
        "Path(LOG_DIR).mkdir(parents=True, exist_ok=True)\n",
        "\n",
        "# Callbacks\n",
        "model_checkpoint_cb = ModelCheckpoint(\n",
        "    filepath=Path(LOG_DIR) / \"transfer_learning\" / \"best_model.keras\",\n",
        "    save_best_only=True,\n",
        "    monitor=\"val_accuracy\",\n",
        "    mode=\"max\",\n",
        "    verbose=1,\n",
        ")\n",
        "\n",
        "early_stopping_cb = EarlyStopping(\n",
        "    patience=5, restore_best_weights=True, monitor=\"val_loss\", mode=\"min\", verbose=1\n",
        ")\n",
        "\n",
        "reduce_lr_on_plateau_cb = ReduceLROnPlateau(\n",
        "    patience=3, factor=0.5, verbose=1, monitor=\"val_loss\", mode=\"min\"\n",
        ")\n",
        "\n",
        "tensorboard_cb_tl = TensorBoard(log_dir=Path(LOG_DIR) / \"transfer_learning\")\n",
        "\n",
        "transfer_learning_callbacks = [\n",
        "    model_checkpoint_cb,\n",
        "    early_stopping_cb,\n",
        "    reduce_lr_on_plateau_cb,\n",
        "    tensorboard_cb_tl,\n",
        "]"
      ]
    },
    {
      "cell_type": "code",
      "execution_count": null,
      "metadata": {},
      "outputs": [],
      "source": [
        "EPOCHS_TRANSFER_LEARNING = 20\n",
        "\n",
        "history = model.fit(\n",
        "    train_ds,\n",
        "    validation_data=val_ds,\n",
        "    epochs=EPOCHS_TRANSFER_LEARNING,\n",
        "    callbacks=transfer_learning_callbacks,\n",
        "    verbose=1,\n",
        ")"
      ]
    },
    {
      "cell_type": "code",
      "execution_count": null,
      "metadata": {},
      "outputs": [],
      "source": [
        "base_model.trainable = True\n",
        "\n",
        "print(f\"Trainable variables after unfreezing: {len(model.trainable_variables)}\")\n",
        "\n",
        "# Re-compile with a lower learning rate\n",
        "model.compile(\n",
        "    optimizer=keras.optimizers.Adam(learning_rate=1e-5),\n",
        "    loss=\"sparse_categorical_crossentropy\",\n",
        "    metrics=[\"accuracy\"],\n",
        ")\n",
        "model.summary()\n",
        "\n",
        "# Callbacks for Fine-tuning\n",
        "model_checkpoint_cb_ft = ModelCheckpoint(\n",
        "    filepath=Path(LOG_DIR) / \"fine_tuning\" / \"best_model.keras\",\n",
        "    save_best_only=True,\n",
        "    monitor=\"val_accuracy\",\n",
        "    mode=\"max\",\n",
        "    verbose=1,\n",
        ")\n",
        "tensorboard_cb_ft = TensorBoard(log_dir=Path(LOG_DIR) / \"fine_tuning\")\n",
        "\n",
        "fine_tuning_callbacks = [\n",
        "    model_checkpoint_cb_ft,\n",
        "    early_stopping_cb,\n",
        "    reduce_lr_on_plateau_cb,\n",
        "    tensorboard_cb_ft,\n",
        "]"
      ]
    },
    {
      "cell_type": "code",
      "execution_count": null,
      "metadata": {},
      "outputs": [],
      "source": [
        "EPOCHS_FINE_TUNING = 10\n",
        "\n",
        "history_ft = model.fit(\n",
        "    train_ds,\n",
        "    validation_data=val_ds,\n",
        "    epochs=EPOCHS_FINE_TUNING,\n",
        "    callbacks=fine_tuning_callbacks,\n",
        "    verbose=1,\n",
        ")"
      ]
    },
    {
      "cell_type": "code",
      "execution_count": null,
      "metadata": {},
      "outputs": [],
      "source": [
        "print(\"Evaluating final model on the validation set:\")\n",
        "loss, accuracy = model.evaluate(val_ds, verbose=0)\n",
        "print(f\"  Validation Loss: {loss:.4f}\")\n",
        "print(f\"  Validation Accuracy: {accuracy * 100:.2f}%\\n\")\n",
        "\n",
        "# Generate predictions for Confusion Matrix\n",
        "val_labels_list = []\n",
        "for _, labels_batch in val_ds:\n",
        "    val_labels_list.append(labels_batch)\n",
        "val_true_labels = tf.concat(val_labels_list, axis=0).numpy()\n",
        "\n",
        "val_pred_probs = model.predict(val_ds, verbose=0)\n",
        "val_pred_labels = tf.argmax(val_pred_probs, axis=1).numpy()\n",
        "\n",
        "# Plot Confusion Matrix\n",
        "cm = confusion_matrix(val_true_labels, val_pred_labels)\n",
        "disp = ConfusionMatrixDisplay(confusion_matrix=cm, display_labels=class_names)\n",
        "\n",
        "fig, ax = plt.subplots(figsize=(12, 12))\n",
        "disp.plot(xticks_rotation=90, cmap=\"Blues\", ax=ax, values_format=\"d\")\n",
        "plt.title(\"Confusion Matrix (After Fine-tuning)\")\n",
        "plt.grid(False)\n",
        "plt.tight_layout()\n",
        "plt.show()"
      ]
    },
    {
      "cell_type": "code",
      "execution_count": null,
      "metadata": {},
      "outputs": [],
      "source": [
        "FINAL_MODEL_PATH = \"best_model.keras\"\n",
        "model.save(FINAL_MODEL_PATH)\n",
        "print(f\"Final model saved to: {FINAL_MODEL_PATH}\")"
      ]
    }
  ],
  "metadata": {
    "accelerator": "GPU",
    "colab": {
      "gpuType": "T4",
      "provenance": []
    },
    "kernelspec": {
      "display_name": ".venv",
      "language": "python",
      "name": "python3"
    },
    "language_info": {
      "codemirror_mode": {
        "name": "ipython",
        "version": 3
      },
      "file_extension": ".py",
      "mimetype": "text/x-python",
      "name": "python",
      "nbconvert_exporter": "python",
      "pygments_lexer": "ipython3",
      "version": "3.11.12"
    }
  },
  "nbformat": 4,
  "nbformat_minor": 0
}
